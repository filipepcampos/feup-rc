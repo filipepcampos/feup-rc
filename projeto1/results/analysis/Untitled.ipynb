{
 "cells": [
  {
   "cell_type": "code",
   "execution_count": 1,
   "id": "efa93a5f-0800-4bc8-af65-280bf5d7dac3",
   "metadata": {},
   "outputs": [],
   "source": [
    "import numpy as np\n",
    "import pandas as pd\n",
    "import matplotlib.pyplot as plt\n",
    "import seaborn as sn"
   ]
  },
  {
   "cell_type": "code",
   "execution_count": 2,
   "id": "bb37c38f-1b5f-417c-9f6f-0fdcca99dac5",
   "metadata": {},
   "outputs": [],
   "source": [
    "b1 = pd.read_csv('b9600.csv')\n",
    "b1['baud'] = 9600\n",
    "b2 = pd.read_csv('b38400.csv')\n",
    "b2['baud'] = 38400\n",
    "b3 = pd.read_csv('b230400.csv')\n",
    "b3['baud'] = 230400\n",
    "\n",
    "df = pd.concat([b1,b2,b3])"
   ]
  },
  {
   "cell_type": "code",
   "execution_count": 3,
   "id": "ff660ece-6cb1-482c-8059-595325a5eb53",
   "metadata": {},
   "outputs": [
    {
     "data": {
      "text/html": [
       "<div>\n",
       "<style scoped>\n",
       "    .dataframe tbody tr th:only-of-type {\n",
       "        vertical-align: middle;\n",
       "    }\n",
       "\n",
       "    .dataframe tbody tr th {\n",
       "        vertical-align: top;\n",
       "    }\n",
       "\n",
       "    .dataframe thead th {\n",
       "        text-align: right;\n",
       "    }\n",
       "</style>\n",
       "<table border=\"1\" class=\"dataframe\">\n",
       "  <thead>\n",
       "    <tr style=\"text-align: right;\">\n",
       "      <th></th>\n",
       "      <th>tprop</th>\n",
       "      <th>fer</th>\n",
       "      <th>infosize</th>\n",
       "      <th>time</th>\n",
       "      <th>baud</th>\n",
       "    </tr>\n",
       "  </thead>\n",
       "  <tbody>\n",
       "    <tr>\n",
       "      <th>0</th>\n",
       "      <td>0</td>\n",
       "      <td>0.00</td>\n",
       "      <td>256</td>\n",
       "      <td>12.682075</td>\n",
       "      <td>9600</td>\n",
       "    </tr>\n",
       "    <tr>\n",
       "      <th>1</th>\n",
       "      <td>0</td>\n",
       "      <td>0.00</td>\n",
       "      <td>512</td>\n",
       "      <td>12.150566</td>\n",
       "      <td>9600</td>\n",
       "    </tr>\n",
       "    <tr>\n",
       "      <th>2</th>\n",
       "      <td>0</td>\n",
       "      <td>0.00</td>\n",
       "      <td>1024</td>\n",
       "      <td>NaN</td>\n",
       "      <td>9600</td>\n",
       "    </tr>\n",
       "    <tr>\n",
       "      <th>3</th>\n",
       "      <td>0</td>\n",
       "      <td>0.00</td>\n",
       "      <td>2048</td>\n",
       "      <td>39.454936</td>\n",
       "      <td>9600</td>\n",
       "    </tr>\n",
       "    <tr>\n",
       "      <th>4</th>\n",
       "      <td>0</td>\n",
       "      <td>0.01</td>\n",
       "      <td>256</td>\n",
       "      <td>12.682848</td>\n",
       "      <td>9600</td>\n",
       "    </tr>\n",
       "  </tbody>\n",
       "</table>\n",
       "</div>"
      ],
      "text/plain": [
       "   tprop   fer  infosize       time  baud\n",
       "0      0  0.00       256  12.682075  9600\n",
       "1      0  0.00       512  12.150566  9600\n",
       "2      0  0.00      1024        NaN  9600\n",
       "3      0  0.00      2048  39.454936  9600\n",
       "4      0  0.01       256  12.682848  9600"
      ]
     },
     "execution_count": 3,
     "metadata": {},
     "output_type": "execute_result"
    }
   ],
   "source": [
    "df.head()"
   ]
  },
  {
   "cell_type": "code",
   "execution_count": 5,
   "id": "870eea34-db8c-4b0b-8b37-381d9d93313a",
   "metadata": {},
   "outputs": [
    {
     "name": "stderr",
     "output_type": "stream",
     "text": [
      "/tmp/ipykernel_24066/1379151135.py:1: FutureWarning: In a future version of pandas all arguments of DataFrame.drop except for the argument 'labels' will be keyword-only\n",
      "  k = df[df['tprop'] == 0].drop('tprop',1)\n"
     ]
    },
    {
     "data": {
      "image/png": "[encoded data removed]",
      "text/plain": [
       "<Figure size 432x288 with 1 Axes>"
      ]
     },
     "metadata": {
      "needs_background": "light"
     },
     "output_type": "display_data"
    }
   ],
   "source": [
    "k = df[df['tprop'] == 0].drop('tprop',1)\n",
    "\n",
    "k = df.groupby(['fer', 'baud'], as_index=False).mean()[['fer','baud','time']]\n",
    "k = k.interpolate(method='cubic')\n",
    "\n",
    "fig, ax = plt.subplots()\n",
    "for key, grp in k.groupby('baud'):\n",
    "    ax = grp.plot(ax=ax, kind='line', x='fer', y='time', label=key)\n",
    "plt.legend(loc='best')\n",
    "plt.show()"
   ]
  },
  {
   "cell_type": "code",
   "execution_count": 84,
   "id": "9aa61b4f-08bd-4680-8866-080f26848d22",
   "metadata": {},
   "outputs": [
    {
     "name": "stderr",
     "output_type": "stream",
     "text": [
      "/tmp/ipykernel_9682/2198598728.py:1: FutureWarning: In a future version of pandas all arguments of DataFrame.drop except for the argument 'labels' will be keyword-only\n",
      "  df = df[df['fer'] == 0].drop('fer',1)\n"
     ]
    },
    {
     "data": {
      "text/html": [
       "<div>\n",
       "<style scoped>\n",
       "    .dataframe tbody tr th:only-of-type {\n",
       "        vertical-align: middle;\n",
       "    }\n",
       "\n",
       "    .dataframe tbody tr th {\n",
       "        vertical-align: top;\n",
       "    }\n",
       "\n",
       "    .dataframe thead th {\n",
       "        text-align: right;\n",
       "    }\n",
       "</style>\n",
       "<table border=\"1\" class=\"dataframe\">\n",
       "  <thead>\n",
       "    <tr style=\"text-align: right;\">\n",
       "      <th></th>\n",
       "      <th>tprop</th>\n",
       "      <th>infosize</th>\n",
       "      <th>time</th>\n",
       "      <th>baud</th>\n",
       "    </tr>\n",
       "  </thead>\n",
       "  <tbody>\n",
       "    <tr>\n",
       "      <th>0</th>\n",
       "      <td>0</td>\n",
       "      <td>256</td>\n",
       "      <td>12.682075</td>\n",
       "      <td>9600</td>\n",
       "    </tr>\n",
       "    <tr>\n",
       "      <th>1</th>\n",
       "      <td>0</td>\n",
       "      <td>512</td>\n",
       "      <td>12.150566</td>\n",
       "      <td>9600</td>\n",
       "    </tr>\n",
       "    <tr>\n",
       "      <th>2</th>\n",
       "      <td>0</td>\n",
       "      <td>1024</td>\n",
       "      <td>NaN</td>\n",
       "      <td>9600</td>\n",
       "    </tr>\n",
       "    <tr>\n",
       "      <th>3</th>\n",
       "      <td>0</td>\n",
       "      <td>2048</td>\n",
       "      <td>39.454936</td>\n",
       "      <td>9600</td>\n",
       "    </tr>\n",
       "    <tr>\n",
       "      <th>16</th>\n",
       "      <td>200000</td>\n",
       "      <td>256</td>\n",
       "      <td>32.084832</td>\n",
       "      <td>9600</td>\n",
       "    </tr>\n",
       "  </tbody>\n",
       "</table>\n",
       "</div>"
      ],
      "text/plain": [
       "     tprop  infosize       time  baud\n",
       "0        0       256  12.682075  9600\n",
       "1        0       512  12.150566  9600\n",
       "2        0      1024        NaN  9600\n",
       "3        0      2048  39.454936  9600\n",
       "16  200000       256  32.084832  9600"
      ]
     },
     "execution_count": 84,
     "metadata": {},
     "output_type": "execute_result"
    }
   ],
   "source": [
    "df = df[df['fer'] == 0].drop('fer',1)\n",
    "df.head()"
   ]
  },
  {
   "cell_type": "code",
   "execution_count": 102,
   "id": "19ddec22-55b1-453e-9e25-b5ea65e48cba",
   "metadata": {},
   "outputs": [
    {
     "data": {
      "image/png": "[encoded data removed]",
      "text/plain": [
       "<Figure size 432x288 with 1 Axes>"
      ]
     },
     "metadata": {
      "needs_background": "light"
     },
     "output_type": "display_data"
    }
   ],
   "source": [
    "k = df.groupby(['infosize', 'baud'], as_index=False).mean()[['infosize','baud','time']]\n",
    "k = k.interpolate(method='cubic')\n",
    "\n",
    "fig, ax = plt.subplots()\n",
    "for key, grp in k.groupby('baud'):\n",
    "    ax = grp.plot(ax=ax, kind='line', x='infosize', y='time', label=key)\n",
    "plt.legend(loc='best')\n",
    "plt.show()"
   ]
  },
  {
   "cell_type": "code",
   "execution_count": 103,
   "id": "fff3b403-ec22-4e05-937d-42c2b29a0169",
   "metadata": {},
   "outputs": [
    {
     "data": {
      "image/png": "[encoded data removed]",
      "text/plain": [
       "<Figure size 432x288 with 1 Axes>"
      ]
     },
     "metadata": {
      "needs_background": "light"
     },
     "output_type": "display_data"
    }
   ],
   "source": [
    "k = df.groupby(['tprop', 'baud'], as_index=False).mean()[['tprop','baud','time']]\n",
    "k = k.interpolate(method='cubic')\n",
    "\n",
    "fig, ax = plt.subplots()\n",
    "for key, grp in k.groupby('baud'):\n",
    "    ax = grp.plot(ax=ax, kind='line', x='tprop', y='time', label=key)\n",
    "plt.legend(loc='best')\n",
    "plt.show()"
   ]
  },
  {
   "cell_type": "code",
   "execution_count": null,
   "id": "ab8def96-0136-4da3-85eb-a07c5cc3b6e5",
   "metadata": {},
   "outputs": [],
   "source": []
  }
 ],
 "metadata": {
  "kernelspec": {
   "display_name": "Python 3 (ipykernel)",
   "language": "python",
   "name": "python3"
  },
  "language_info": {
   "codemirror_mode": {
    "name": "ipython",
    "version": 3
   },
   "file_extension": ".py",
   "mimetype": "text/x-python",
   "name": "python",
   "nbconvert_exporter": "python",
   "pygments_lexer": "ipython3",
   "version": "3.8.10"
  }
 },
 "nbformat": 4,
 "nbformat_minor": 5
}
