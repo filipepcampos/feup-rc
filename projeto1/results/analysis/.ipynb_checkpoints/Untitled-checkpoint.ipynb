{
 "cells": [
  {
   "cell_type": "code",
   "execution_count": 37,
   "id": "efa93a5f-0800-4bc8-af65-280bf5d7dac3",
   "metadata": {},
   "outputs": [],
   "source": [
    "import pandas as pd"
   ]
  },
  {
   "cell_type": "code",
   "execution_count": 38,
   "id": "bb37c38f-1b5f-417c-9f6f-0fdcca99dac5",
   "metadata": {},
   "outputs": [],
   "source": [
    "b1 = pd.read_csv('b9600.csv')\n",
    "b1['baud'] = 9600\n",
    "b2 = pd.read_csv('b38400.csv')\n",
    "b2['baud'] = 38400\n",
    "b3 = pd.read_csv('b230400.csv')\n",
    "b3['baud'] = 230400\n",
    "\n",
    "df = pd.concat([b1,b2,b3])"
   ]
  },
  {
   "cell_type": "code",
   "execution_count": 39,
   "id": "ff660ece-6cb1-482c-8059-595325a5eb53",
   "metadata": {},
   "outputs": [
    {
     "data": {
      "text/html": [
       "<div>\n",
       "<style scoped>\n",
       "    .dataframe tbody tr th:only-of-type {\n",
       "        vertical-align: middle;\n",
       "    }\n",
       "\n",
       "    .dataframe tbody tr th {\n",
       "        vertical-align: top;\n",
       "    }\n",
       "\n",
       "    .dataframe thead th {\n",
       "        text-align: right;\n",
       "    }\n",
       "</style>\n",
       "<table border=\"1\" class=\"dataframe\">\n",
       "  <thead>\n",
       "    <tr style=\"text-align: right;\">\n",
       "      <th></th>\n",
       "      <th>tprop</th>\n",
       "      <th>fer</th>\n",
       "      <th>infosize</th>\n",
       "      <th>time</th>\n",
       "      <th>baud</th>\n",
       "    </tr>\n",
       "  </thead>\n",
       "  <tbody>\n",
       "    <tr>\n",
       "      <th>0</th>\n",
       "      <td>0</td>\n",
       "      <td>0.00</td>\n",
       "      <td>256</td>\n",
       "      <td>12.682075</td>\n",
       "      <td>9600</td>\n",
       "    </tr>\n",
       "    <tr>\n",
       "      <th>1</th>\n",
       "      <td>0</td>\n",
       "      <td>0.00</td>\n",
       "      <td>512</td>\n",
       "      <td>12.150566</td>\n",
       "      <td>9600</td>\n",
       "    </tr>\n",
       "    <tr>\n",
       "      <th>2</th>\n",
       "      <td>0</td>\n",
       "      <td>0.00</td>\n",
       "      <td>1024</td>\n",
       "      <td>NaN</td>\n",
       "      <td>9600</td>\n",
       "    </tr>\n",
       "    <tr>\n",
       "      <th>3</th>\n",
       "      <td>0</td>\n",
       "      <td>0.00</td>\n",
       "      <td>2048</td>\n",
       "      <td>39.454936</td>\n",
       "      <td>9600</td>\n",
       "    </tr>\n",
       "    <tr>\n",
       "      <th>4</th>\n",
       "      <td>0</td>\n",
       "      <td>0.01</td>\n",
       "      <td>256</td>\n",
       "      <td>12.682848</td>\n",
       "      <td>9600</td>\n",
       "    </tr>\n",
       "  </tbody>\n",
       "</table>\n",
       "</div>"
      ],
      "text/plain": [
       "   tprop   fer  infosize       time  baud\n",
       "0      0  0.00       256  12.682075  9600\n",
       "1      0  0.00       512  12.150566  9600\n",
       "2      0  0.00      1024        NaN  9600\n",
       "3      0  0.00      2048  39.454936  9600\n",
       "4      0  0.01       256  12.682848  9600"
      ]
     },
     "execution_count": 39,
     "metadata": {},
     "output_type": "execute_result"
    }
   ],
   "source": [
    "df.head()"
   ]
  },
  {
   "cell_type": "code",
   "execution_count": 40,
   "id": "4ba4bb03-b899-4103-a218-ffcb041dd1a2",
   "metadata": {},
   "outputs": [
    {
     "data": {
      "text/plain": [
       "tprop         int64\n",
       "fer         float64\n",
       "infosize      int64\n",
       "time        float64\n",
       "baud          int64\n",
       "dtype: object"
      ]
     },
     "execution_count": 40,
     "metadata": {},
     "output_type": "execute_result"
    }
   ],
   "source": [
    "df.dtypes"
   ]
  },
  {
   "cell_type": "code",
   "execution_count": null,
   "id": "8412661d-0729-42ea-b242-ad8efba274c0",
   "metadata": {},
   "outputs": [],
   "source": []
  },
  {
   "cell_type": "code",
   "execution_count": null,
   "id": "dff22deb-ed92-4d57-888d-93a3521dbeeb",
   "metadata": {},
   "outputs": [],
   "source": []
  }
 ],
 "metadata": {
  "kernelspec": {
   "display_name": "Python 3 (ipykernel)",
   "language": "python",
   "name": "python3"
  },
  "language_info": {
   "codemirror_mode": {
    "name": "ipython",
    "version": 3
   },
   "file_extension": ".py",
   "mimetype": "text/x-python",
   "name": "python",
   "nbconvert_exporter": "python",
   "pygments_lexer": "ipython3",
   "version": "3.8.10"
  }
 },
 "nbformat": 4,
 "nbformat_minor": 5
}
